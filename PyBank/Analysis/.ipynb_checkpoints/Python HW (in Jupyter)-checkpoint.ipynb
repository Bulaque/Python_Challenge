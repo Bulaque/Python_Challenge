{
 "cells": [
  {
   "cell_type": "code",
   "execution_count": 1,
   "id": "69d8fa10",
   "metadata": {},
   "outputs": [
    {
     "name": "stdout",
     "output_type": "stream",
     "text": [
      "current working dir: C:\\Users\\blake\\OneDrive\\Desktop\\UNC Bootcamp Homework and other notes\\Python_Challenge\\PyBank\\Analysis\n",
      "csv path: ../Resources/budget_data.csv\n",
      "     Date  Profit/Losses\n",
      "0  Jan-10        1088983\n",
      "1  Feb-10        -354534\n",
      "2  Mar-10         276622\n",
      "3  Apr-10        -728133\n",
      "4  May-10         852993\n"
     ]
    }
   ],
   "source": [
    "import os\n",
    "import csv\n",
    "import pandas as pd\n",
    "\n",
    "budget_datacsv = os.path.join(\"..\", \"Resources\",\"budget_data.csv\").replace('\\\\','/')\n",
    "\n",
    "print(f\"current working dir: {os.getcwd()}\")\n",
    "print(f\"csv path: {budget_datacsv}\")\n",
    "with open(budget_datacsv) as budget_sheet:\n",
    "    \n",
    "    budgetdata_reader = csv.reader(budget_sheet)\n",
    "    heading = next(budgetdata_reader)\n",
    "\n",
    "budget_df = pd.read_csv(budget_datacsv)\n",
    "\n",
    "print(budget_df.head(5))"
   ]
  },
  {
   "cell_type": "code",
   "execution_count": 3,
   "id": "de17ddbe",
   "metadata": {},
   "outputs": [
    {
     "name": "stdout",
     "output_type": "stream",
     "text": [
      "Financial Analysis\n",
      "----------------------------------\n"
     ]
    }
   ],
   "source": [
    "# Creating PyBank Analysis Title\n",
    "print(\"Financial Analysis\")\n",
    "print(\"----------------------------------\")"
   ]
  },
  {
   "cell_type": "code",
   "execution_count": 4,
   "id": "6a9f2da7",
   "metadata": {},
   "outputs": [
    {
     "name": "stdout",
     "output_type": "stream",
     "text": [
      "Total Months: 86\n"
     ]
    }
   ],
   "source": [
    "# Creating total months line\n",
    "\n",
    "n_months = budget_df[\"Date\"].nunique()\n",
    "print(f\"Total Months: {n_months}\")"
   ]
  },
  {
   "cell_type": "code",
   "execution_count": 5,
   "id": "61faeb2b",
   "metadata": {},
   "outputs": [
    {
     "name": "stdout",
     "output_type": "stream",
     "text": [
      "Total: 22564198\n"
     ]
    }
   ],
   "source": [
    "# Creating net total amount line\n",
    "\n",
    "total_pnl = budget_df[\"Profit/Losses\"].sum()\n",
    "print(f\"Total: {total_pnl}\")"
   ]
  },
  {
   "cell_type": "code",
   "execution_count": null,
   "id": "63755a53",
   "metadata": {},
   "outputs": [],
   "source": [
    "# Creating average change line\n",
    "\n",
    "print(\"Average Change: No answer yet\")"
   ]
  },
  {
   "cell_type": "code",
   "execution_count": null,
   "id": "2dd395d4",
   "metadata": {},
   "outputs": [],
   "source": [
    "# Creating Greatest Increase in Profits line\n",
    "\n",
    "print(\"Greatest Increase in Profits: No answer yet\")"
   ]
  },
  {
   "cell_type": "code",
   "execution_count": null,
   "id": "65775a61",
   "metadata": {},
   "outputs": [],
   "source": [
    "# Creating Greatest Decrease in Profits line\n",
    "\n",
    "print(\"Greatest Decrease in Profits: No answer yet\")"
   ]
  }
 ],
 "metadata": {
  "kernelspec": {
   "display_name": "Python 3 (ipykernel)",
   "language": "python",
   "name": "python3"
  },
  "language_info": {
   "codemirror_mode": {
    "name": "ipython",
    "version": 3
   },
   "file_extension": ".py",
   "mimetype": "text/x-python",
   "name": "python",
   "nbconvert_exporter": "python",
   "pygments_lexer": "ipython3",
   "version": "3.11.5"
  }
 },
 "nbformat": 4,
 "nbformat_minor": 5
}
